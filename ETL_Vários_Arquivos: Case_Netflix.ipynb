{
 "cells": [
  {
   "cell_type": "code",
   "execution_count": 4,
   "metadata": {},
   "outputs": [],
   "source": [
    "#Importando bilbiotecas \n",
    "import pandas as pd #manipular base de dados\n",
    "import os #utilizar os sistema operacional\n",
    "import glob #manipular arquivos em massa"
   ]
  },
  {
   "cell_type": "code",
   "execution_count": 5,
   "metadata": {},
   "outputs": [],
   "source": [
    "#Definir caminho da data_raw\n",
    "data_raw_path = r'C:\\Users\\Igor\\Desktop\\Python\\VS CODE\\source\\data\\raw'"
   ]
  },
  {
   "cell_type": "code",
   "execution_count": 6,
   "metadata": {},
   "outputs": [
    {
     "data": {
      "text/plain": [
       "['C:\\\\Users\\\\Igor\\\\Desktop\\\\Python\\\\VS CODE\\\\source\\\\data\\\\raw\\\\netflix_202401_brasil.xlsx',\n",
       " 'C:\\\\Users\\\\Igor\\\\Desktop\\\\Python\\\\VS CODE\\\\source\\\\data\\\\raw\\\\netflix_202401_france.xlsx',\n",
       " 'C:\\\\Users\\\\Igor\\\\Desktop\\\\Python\\\\VS CODE\\\\source\\\\data\\\\raw\\\\netflix_202402_brasil.xlsx',\n",
       " 'C:\\\\Users\\\\Igor\\\\Desktop\\\\Python\\\\VS CODE\\\\source\\\\data\\\\raw\\\\netflix_202402_france.xlsx',\n",
       " 'C:\\\\Users\\\\Igor\\\\Desktop\\\\Python\\\\VS CODE\\\\source\\\\data\\\\raw\\\\netflix_202403_brasil.xlsx',\n",
       " 'C:\\\\Users\\\\Igor\\\\Desktop\\\\Python\\\\VS CODE\\\\source\\\\data\\\\raw\\\\netflix_202403_france.xlsx',\n",
       " 'C:\\\\Users\\\\Igor\\\\Desktop\\\\Python\\\\VS CODE\\\\source\\\\data\\\\raw\\\\netflix_202404_brasil.xlsx',\n",
       " 'C:\\\\Users\\\\Igor\\\\Desktop\\\\Python\\\\VS CODE\\\\source\\\\data\\\\raw\\\\netflix_202404_france.xlsx',\n",
       " 'C:\\\\Users\\\\Igor\\\\Desktop\\\\Python\\\\VS CODE\\\\source\\\\data\\\\raw\\\\netflix_202405_brasil.xlsx',\n",
       " 'C:\\\\Users\\\\Igor\\\\Desktop\\\\Python\\\\VS CODE\\\\source\\\\data\\\\raw\\\\netflix_202405_france.xlsx',\n",
       " 'C:\\\\Users\\\\Igor\\\\Desktop\\\\Python\\\\VS CODE\\\\source\\\\data\\\\raw\\\\netflix_202406_brasil.xlsx',\n",
       " 'C:\\\\Users\\\\Igor\\\\Desktop\\\\Python\\\\VS CODE\\\\source\\\\data\\\\raw\\\\netflix_202406_france.xlsx',\n",
       " 'C:\\\\Users\\\\Igor\\\\Desktop\\\\Python\\\\VS CODE\\\\source\\\\data\\\\raw\\\\netflix_202407_brasil.xlsx',\n",
       " 'C:\\\\Users\\\\Igor\\\\Desktop\\\\Python\\\\VS CODE\\\\source\\\\data\\\\raw\\\\netflix_202407_france.xlsx',\n",
       " 'C:\\\\Users\\\\Igor\\\\Desktop\\\\Python\\\\VS CODE\\\\source\\\\data\\\\raw\\\\netflix_202491_italian.xlsx',\n",
       " 'C:\\\\Users\\\\Igor\\\\Desktop\\\\Python\\\\VS CODE\\\\source\\\\data\\\\raw\\\\netflix_202492_italian.xlsx',\n",
       " 'C:\\\\Users\\\\Igor\\\\Desktop\\\\Python\\\\VS CODE\\\\source\\\\data\\\\raw\\\\netflix_202493_italian.xlsx',\n",
       " 'C:\\\\Users\\\\Igor\\\\Desktop\\\\Python\\\\VS CODE\\\\source\\\\data\\\\raw\\\\netflix_202494_italian.xlsx',\n",
       " 'C:\\\\Users\\\\Igor\\\\Desktop\\\\Python\\\\VS CODE\\\\source\\\\data\\\\raw\\\\netflix_202495_italian.xlsx',\n",
       " 'C:\\\\Users\\\\Igor\\\\Desktop\\\\Python\\\\VS CODE\\\\source\\\\data\\\\raw\\\\netflix_202496_italian.xlsx',\n",
       " 'C:\\\\Users\\\\Igor\\\\Desktop\\\\Python\\\\VS CODE\\\\source\\\\data\\\\raw\\\\netflix_202497_italian.xlsx',\n",
       " 'C:\\\\Users\\\\Igor\\\\Desktop\\\\Python\\\\VS CODE\\\\source\\\\data\\\\raw\\\\netflix_202498_italian.xlsx']"
      ]
     },
     "execution_count": 6,
     "metadata": {},
     "output_type": "execute_result"
    }
   ],
   "source": [
    "#Listar todos os arquivos de excel da pasta\n",
    "excel_files = glob.glob(os.path.join(data_raw_path,'*.xlsx'))\n",
    "excel_files"
   ]
  },
  {
   "cell_type": "code",
   "execution_count": 7,
   "metadata": {},
   "outputs": [],
   "source": [
    "#Lendo os arquivos excel \n",
    "dfs = []\n",
    "\n",
    "for excel_file in excel_files:\n",
    "    df_Temp = pd.read_excel(excel_file)\n",
    "    \n",
    "    \n",
    "    '''Ratreando a fonte do dado baseado no nome do arquivo\n",
    "    criando uma coluna de localização'''\n",
    "    file_name = os.path.basename(excel_file)\n",
    "    \n",
    "    #df_Temp['filename'] = file_name dessa forma podemos rastrear de acordo com o nome do arquivo\n",
    "\n",
    "    if 'brasil' in file_name.lower():\n",
    "        df_Temp['Location'] = 'br'\n",
    "    elif 'france' in file_name.lower():\n",
    "        df_Temp['Location'] = 'fr'\n",
    "    elif 'italian' in file_name.lower():\n",
    "        df_Temp['Location'] = 'ita'\n",
    "\n",
    "    '''Encontrando a campanha que trouxe o cliente, para isso vamos pegar a coluna\n",
    "    do link e separar a string no termo ='''\n",
    "    df_Temp['Campaign']=df_Temp['utm_link'].str.extract(r'utm_campaign=(.*)') #Regex busca padrões de texto\n",
    "    \n",
    "    #Após trativas, compilando tabelas em um vetor\n",
    "    dfs.append(df_Temp)\n"
   ]
  },
  {
   "cell_type": "code",
   "execution_count": 8,
   "metadata": {},
   "outputs": [],
   "source": [
    "#Verificação da existencia e se não está vazia\n",
    "if dfs:\n",
    "    result = pd.concat(dfs, ignore_index = True) #Concatena todas as tabelas em uma única tabela\n",
    "    #Criando arquivo consolidado\n",
    "    path = r'C:\\Users\\Igor\\Desktop\\Python\\VS CODE\\source\\data\\ready\\\\'\n",
    "    archive = 'Clean.xlsx' \n",
    "\n",
    "    writer = pd.ExcelWriter(path + archive) \n",
    "\n",
    "    result.to_excel(writer, index = False)\n",
    "\n",
    "    writer._save()"
   ]
  },
  {
   "cell_type": "code",
   "execution_count": 9,
   "metadata": {},
   "outputs": [
    {
     "data": {
      "text/html": [
       "<div>\n",
       "<style scoped>\n",
       "    .dataframe tbody tr th:only-of-type {\n",
       "        vertical-align: middle;\n",
       "    }\n",
       "\n",
       "    .dataframe tbody tr th {\n",
       "        vertical-align: top;\n",
       "    }\n",
       "\n",
       "    .dataframe thead th {\n",
       "        text-align: right;\n",
       "    }\n",
       "</style>\n",
       "<table border=\"1\" class=\"dataframe\">\n",
       "  <thead>\n",
       "    <tr style=\"text-align: right;\">\n",
       "      <th></th>\n",
       "      <th>sale_date</th>\n",
       "      <th>Customer</th>\n",
       "      <th>Contracted Plan</th>\n",
       "      <th>Amount</th>\n",
       "      <th>utm_link</th>\n",
       "      <th>Age</th>\n",
       "      <th>Location</th>\n",
       "      <th>Campaign</th>\n",
       "    </tr>\n",
       "  </thead>\n",
       "  <tbody>\n",
       "    <tr>\n",
       "      <th>0</th>\n",
       "      <td>2024-02-01</td>\n",
       "      <td>João Silva</td>\n",
       "      <td>Plano Premium</td>\n",
       "      <td>29.9</td>\n",
       "      <td>https://servicostreaming.com.br?utm_campaign=s...</td>\n",
       "      <td>35</td>\n",
       "      <td>br</td>\n",
       "      <td>summer</td>\n",
       "    </tr>\n",
       "    <tr>\n",
       "      <th>1</th>\n",
       "      <td>2024-02-05</td>\n",
       "      <td>Maria Santos</td>\n",
       "      <td>Plano Básico</td>\n",
       "      <td>12.9</td>\n",
       "      <td>https://servicostreaming.com.br?utm_campaign=fall</td>\n",
       "      <td>28</td>\n",
       "      <td>br</td>\n",
       "      <td>fall</td>\n",
       "    </tr>\n",
       "    <tr>\n",
       "      <th>2</th>\n",
       "      <td>2024-02-10</td>\n",
       "      <td>Pedro Lima</td>\n",
       "      <td>Plano Padrão</td>\n",
       "      <td>19.9</td>\n",
       "      <td>https://servicostreaming.com.br?utm_campaign=w...</td>\n",
       "      <td>42</td>\n",
       "      <td>br</td>\n",
       "      <td>winter</td>\n",
       "    </tr>\n",
       "    <tr>\n",
       "      <th>3</th>\n",
       "      <td>2024-02-15</td>\n",
       "      <td>Ana Souza</td>\n",
       "      <td>Plano Premium</td>\n",
       "      <td>29.9</td>\n",
       "      <td>https://servicostreaming.com.br?utm_campaign=s...</td>\n",
       "      <td>30</td>\n",
       "      <td>br</td>\n",
       "      <td>spring</td>\n",
       "    </tr>\n",
       "    <tr>\n",
       "      <th>4</th>\n",
       "      <td>2024-02-20</td>\n",
       "      <td>Carlos Ferro</td>\n",
       "      <td>Plano Básico</td>\n",
       "      <td>12.9</td>\n",
       "      <td>https://servicostreaming.com.br?utm_campaign=v...</td>\n",
       "      <td>25</td>\n",
       "      <td>br</td>\n",
       "      <td>vacation</td>\n",
       "    </tr>\n",
       "  </tbody>\n",
       "</table>\n",
       "</div>"
      ],
      "text/plain": [
       "   sale_date     Customer  Contracted Plan  Amount  \\\n",
       "0 2024-02-01    João Silva   Plano Premium    29.9   \n",
       "1 2024-02-05  Maria Santos    Plano Básico    12.9   \n",
       "2 2024-02-10    Pedro Lima    Plano Padrão    19.9   \n",
       "3 2024-02-15     Ana Souza   Plano Premium    29.9   \n",
       "4 2024-02-20  Carlos Ferro    Plano Básico    12.9   \n",
       "\n",
       "                                            utm_link  Age Location  Campaign  \n",
       "0  https://servicostreaming.com.br?utm_campaign=s...   35       br    summer  \n",
       "1  https://servicostreaming.com.br?utm_campaign=fall   28       br      fall  \n",
       "2  https://servicostreaming.com.br?utm_campaign=w...   42       br    winter  \n",
       "3  https://servicostreaming.com.br?utm_campaign=s...   30       br    spring  \n",
       "4  https://servicostreaming.com.br?utm_campaign=v...   25       br  vacation  "
      ]
     },
     "execution_count": 9,
     "metadata": {},
     "output_type": "execute_result"
    }
   ],
   "source": [
    "df = pd.read_excel(r'C:\\Users\\Igor\\Desktop\\Python\\VS CODE\\source\\data\\ready\\Clean.xlsx')\n",
    "df.head()"
   ]
  }
 ],
 "metadata": {
  "kernelspec": {
   "display_name": "Python 3",
   "language": "python",
   "name": "python3"
  },
  "language_info": {
   "codemirror_mode": {
    "name": "ipython",
    "version": 3
   },
   "file_extension": ".py",
   "mimetype": "text/x-python",
   "name": "python",
   "nbconvert_exporter": "python",
   "pygments_lexer": "ipython3",
   "version": "3.13.2"
  }
 },
 "nbformat": 4,
 "nbformat_minor": 2
}
